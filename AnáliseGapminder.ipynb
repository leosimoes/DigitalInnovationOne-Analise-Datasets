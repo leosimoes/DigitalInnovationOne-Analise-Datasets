{
 "cells": [
  {
   "cell_type": "markdown",
   "metadata": {},
   "source": [
    "# Digital Innovation One - Análise de dados com Python e Pandas (3)\n",
    "\n",
    "<pre>\n",
    "Autor: Leonardo Simões\n",
    "Data: 23/06/2021\n",
    "</pre>"
   ]
  },
  {
   "cell_type": "markdown",
   "metadata": {},
   "source": [
    "---\n",
    "## Sumário\n",
    "- [Introdução](#intro)\n",
    "- [Preparação dos dados](#data_wrangling) \n",
    "- [Aquisição dos dados](#gather)\n",
    "- [Avaliação dos dados](#evaluation)\n",
    "- [Limpeza e organização dos dados](#clean_and_tidiness)\n",
    "- [Análise Exploratória](#eda)"
   ]
  },
  {
   "cell_type": "markdown",
   "metadata": {},
   "source": [
    "---\n",
    "<a id='intro'></a>\n",
    "## Introdução\n",
    "\n",
    "Projeto prático \"Análise de dados com Python e Pandas\" do Bootcamp \"Banco Carrefour Data Engineer\" da Digital Innovation One."
   ]
  },
  {
   "cell_type": "markdown",
   "metadata": {},
   "source": [
    "----\n",
    "<a id='data_wrangling'></a>\n",
    "## Preparação dos dados\n",
    "\n",
    "Esta etapa antecede a análise. Aqui, os dados são carregados, avaliados, organizados e limpos, para garantir que as etapas seguintes sejam feitas de modo correto, conscistente e suscinto. A etapa de preparação de dados é divida em outras que consistem nas tarefas citadas anteriormente."
   ]
  },
  {
   "cell_type": "code",
   "execution_count": 1,
   "metadata": {},
   "outputs": [],
   "source": [
    "# imports das bibliotecas usadas até a parte da análise\n",
    "import numpy as np\n",
    "import pandas as pd\n",
    "import matplotlib.pyplot as plt\n",
    "import seaborn as sns\n",
    "\n",
    "%matplotlib inline"
   ]
  },
  {
   "cell_type": "code",
   "execution_count": 2,
   "metadata": {},
   "outputs": [],
   "source": [
    "# Alterar a exibição de float para duas casas decimais\n",
    "pd.options.display.float_format = '{:20,.2f}'.format"
   ]
  },
  {
   "cell_type": "markdown",
   "metadata": {},
   "source": [
    "---\n",
    "<a id='gather'></a>\n",
    "## Aquisição dos dados\n",
    "\n",
    "Nesta etapa os dados são carregados em objeto(s) pandas do tipo dataframe. "
   ]
  },
  {
   "cell_type": "code",
   "execution_count": 3,
   "metadata": {
    "scrolled": true
   },
   "outputs": [
    {
     "data": {
      "text/html": [
       "<div>\n",
       "<style scoped>\n",
       "    .dataframe tbody tr th:only-of-type {\n",
       "        vertical-align: middle;\n",
       "    }\n",
       "\n",
       "    .dataframe tbody tr th {\n",
       "        vertical-align: top;\n",
       "    }\n",
       "\n",
       "    .dataframe thead th {\n",
       "        text-align: right;\n",
       "    }\n",
       "</style>\n",
       "<table border=\"1\" class=\"dataframe\">\n",
       "  <thead>\n",
       "    <tr style=\"text-align: right;\">\n",
       "      <th></th>\n",
       "      <th>country</th>\n",
       "      <th>continent</th>\n",
       "      <th>year</th>\n",
       "      <th>lifeExp</th>\n",
       "      <th>pop</th>\n",
       "      <th>gdpPercap</th>\n",
       "    </tr>\n",
       "  </thead>\n",
       "  <tbody>\n",
       "    <tr>\n",
       "      <th>0</th>\n",
       "      <td>Afghanistan</td>\n",
       "      <td>Asia</td>\n",
       "      <td>1952</td>\n",
       "      <td>28.80</td>\n",
       "      <td>8425333</td>\n",
       "      <td>779.45</td>\n",
       "    </tr>\n",
       "    <tr>\n",
       "      <th>1</th>\n",
       "      <td>Afghanistan</td>\n",
       "      <td>Asia</td>\n",
       "      <td>1957</td>\n",
       "      <td>30.33</td>\n",
       "      <td>9240934</td>\n",
       "      <td>820.85</td>\n",
       "    </tr>\n",
       "    <tr>\n",
       "      <th>2</th>\n",
       "      <td>Afghanistan</td>\n",
       "      <td>Asia</td>\n",
       "      <td>1962</td>\n",
       "      <td>32.00</td>\n",
       "      <td>10267083</td>\n",
       "      <td>853.10</td>\n",
       "    </tr>\n",
       "  </tbody>\n",
       "</table>\n",
       "</div>"
      ],
      "text/plain": [
       "       country continent  year              lifeExp       pop  \\\n",
       "0  Afghanistan      Asia  1952                28.80   8425333   \n",
       "1  Afghanistan      Asia  1957                30.33   9240934   \n",
       "2  Afghanistan      Asia  1962                32.00  10267083   \n",
       "\n",
       "             gdpPercap  \n",
       "0               779.45  \n",
       "1               820.85  \n",
       "2               853.10  "
      ]
     },
     "execution_count": 3,
     "metadata": {},
     "output_type": "execute_result"
    }
   ],
   "source": [
    "df = pd.read_csv(\"./datasets/Gapminder.csv\", sep=';')\n",
    "df.head(3)"
   ]
  },
  {
   "cell_type": "markdown",
   "metadata": {},
   "source": [
    "---\n",
    "<a id='evaluation'></a>\n",
    "## Avaliação dos dados\n",
    "\n",
    "Nesta etapa, os dataframes são examinados para procurar problemas de organização e qualidade dos dados."
   ]
  },
  {
   "cell_type": "markdown",
   "metadata": {},
   "source": [
    "### Informações gerais do dataframe:"
   ]
  },
  {
   "cell_type": "code",
   "execution_count": 4,
   "metadata": {},
   "outputs": [],
   "source": [
    "def exibir_informacoes_gerais(df):\n",
    "    # Exibindo informações gerais do dataframe\n",
    "    valores_na = df.isna().sum()\n",
    "    informacoes = pd.DataFrame({'Coluna': df.columns,\n",
    "                                'Tipo': df.dtypes,\n",
    "                                'Quantidade de ausentes': valores_na,\n",
    "                                'Porcentagem de ausentes': valores_na / df.shape[0]\n",
    "                                })\n",
    "    informacoes.reset_index(drop=True, inplace=True)\n",
    "    informacoes['Porcentagem de ausentes'] = informacoes['Porcentagem de ausentes'].round(4) * 100\n",
    "    informacoes['Porcentagem de ausentes'] = informacoes['Porcentagem de ausentes'].astype(str) + ' %'\n",
    "    #print(\"Informações gerais das colunas\")\n",
    "    #print(informacoes)\n",
    "    return informacoes"
   ]
  },
  {
   "cell_type": "code",
   "execution_count": 5,
   "metadata": {},
   "outputs": [
    {
     "data": {
      "text/html": [
       "<div>\n",
       "<style scoped>\n",
       "    .dataframe tbody tr th:only-of-type {\n",
       "        vertical-align: middle;\n",
       "    }\n",
       "\n",
       "    .dataframe tbody tr th {\n",
       "        vertical-align: top;\n",
       "    }\n",
       "\n",
       "    .dataframe thead th {\n",
       "        text-align: right;\n",
       "    }\n",
       "</style>\n",
       "<table border=\"1\" class=\"dataframe\">\n",
       "  <thead>\n",
       "    <tr style=\"text-align: right;\">\n",
       "      <th></th>\n",
       "      <th>Coluna</th>\n",
       "      <th>Tipo</th>\n",
       "      <th>Quantidade de ausentes</th>\n",
       "      <th>Porcentagem de ausentes</th>\n",
       "    </tr>\n",
       "  </thead>\n",
       "  <tbody>\n",
       "    <tr>\n",
       "      <th>0</th>\n",
       "      <td>country</td>\n",
       "      <td>object</td>\n",
       "      <td>0</td>\n",
       "      <td>0.0 %</td>\n",
       "    </tr>\n",
       "    <tr>\n",
       "      <th>1</th>\n",
       "      <td>continent</td>\n",
       "      <td>object</td>\n",
       "      <td>301</td>\n",
       "      <td>9.09 %</td>\n",
       "    </tr>\n",
       "    <tr>\n",
       "      <th>2</th>\n",
       "      <td>year</td>\n",
       "      <td>int64</td>\n",
       "      <td>0</td>\n",
       "      <td>0.0 %</td>\n",
       "    </tr>\n",
       "    <tr>\n",
       "      <th>3</th>\n",
       "      <td>lifeExp</td>\n",
       "      <td>float64</td>\n",
       "      <td>0</td>\n",
       "      <td>0.0 %</td>\n",
       "    </tr>\n",
       "    <tr>\n",
       "      <th>4</th>\n",
       "      <td>pop</td>\n",
       "      <td>int64</td>\n",
       "      <td>0</td>\n",
       "      <td>0.0 %</td>\n",
       "    </tr>\n",
       "    <tr>\n",
       "      <th>5</th>\n",
       "      <td>gdpPercap</td>\n",
       "      <td>float64</td>\n",
       "      <td>0</td>\n",
       "      <td>0.0 %</td>\n",
       "    </tr>\n",
       "  </tbody>\n",
       "</table>\n",
       "</div>"
      ],
      "text/plain": [
       "      Coluna     Tipo  Quantidade de ausentes Porcentagem de ausentes\n",
       "0    country   object                       0                   0.0 %\n",
       "1  continent   object                     301                  9.09 %\n",
       "2       year    int64                       0                   0.0 %\n",
       "3    lifeExp  float64                       0                   0.0 %\n",
       "4        pop    int64                       0                   0.0 %\n",
       "5  gdpPercap  float64                       0                   0.0 %"
      ]
     },
     "execution_count": 5,
     "metadata": {},
     "output_type": "execute_result"
    }
   ],
   "source": [
    "exibir_informacoes_gerais(df)"
   ]
  },
  {
   "cell_type": "markdown",
   "metadata": {},
   "source": [
    "### Descrição das colunas quantitativas do dataframe:"
   ]
  },
  {
   "cell_type": "code",
   "execution_count": 6,
   "metadata": {},
   "outputs": [],
   "source": [
    "def descrever_colunas_quantitativas(df):\n",
    "    # Descrevendo colunas numéricas (quantitativas)\n",
    "    descricao_df = df.describe()\n",
    "    descricao_df.index = ['quantidade', 'média', 'desvio padrao', 'mínimo', 'quartil 1 (25%)',\n",
    "                          'mediana - quartil 2 (50%)', 'quartil 3 (75%)', 'máximo']\n",
    "    # print(\"Descrição de colunas numéricas\")\n",
    "    # print(descricao_df)\n",
    "    return descricao_df"
   ]
  },
  {
   "cell_type": "code",
   "execution_count": 7,
   "metadata": {},
   "outputs": [
    {
     "data": {
      "text/html": [
       "<div>\n",
       "<style scoped>\n",
       "    .dataframe tbody tr th:only-of-type {\n",
       "        vertical-align: middle;\n",
       "    }\n",
       "\n",
       "    .dataframe tbody tr th {\n",
       "        vertical-align: top;\n",
       "    }\n",
       "\n",
       "    .dataframe thead th {\n",
       "        text-align: right;\n",
       "    }\n",
       "</style>\n",
       "<table border=\"1\" class=\"dataframe\">\n",
       "  <thead>\n",
       "    <tr style=\"text-align: right;\">\n",
       "      <th></th>\n",
       "      <th>year</th>\n",
       "      <th>lifeExp</th>\n",
       "      <th>pop</th>\n",
       "      <th>gdpPercap</th>\n",
       "    </tr>\n",
       "  </thead>\n",
       "  <tbody>\n",
       "    <tr>\n",
       "      <th>quantidade</th>\n",
       "      <td>3,312.00</td>\n",
       "      <td>3,312.00</td>\n",
       "      <td>3,312.00</td>\n",
       "      <td>3,312.00</td>\n",
       "    </tr>\n",
       "    <tr>\n",
       "      <th>média</th>\n",
       "      <td>1,980.30</td>\n",
       "      <td>65.25</td>\n",
       "      <td>31,614,890.82</td>\n",
       "      <td>11,317.12</td>\n",
       "    </tr>\n",
       "    <tr>\n",
       "      <th>desvio padrao</th>\n",
       "      <td>16.93</td>\n",
       "      <td>11.77</td>\n",
       "      <td>104,119,342.89</td>\n",
       "      <td>11,369.14</td>\n",
       "    </tr>\n",
       "    <tr>\n",
       "      <th>mínimo</th>\n",
       "      <td>1,950.00</td>\n",
       "      <td>23.60</td>\n",
       "      <td>59,412.00</td>\n",
       "      <td>241.17</td>\n",
       "    </tr>\n",
       "    <tr>\n",
       "      <th>quartil 1 (25%)</th>\n",
       "      <td>1,967.00</td>\n",
       "      <td>58.34</td>\n",
       "      <td>2,678,572.00</td>\n",
       "      <td>2,514.63</td>\n",
       "    </tr>\n",
       "    <tr>\n",
       "      <th>mediana - quartil 2 (50%)</th>\n",
       "      <td>1,982.00</td>\n",
       "      <td>69.61</td>\n",
       "      <td>7,557,218.50</td>\n",
       "      <td>7,838.51</td>\n",
       "    </tr>\n",
       "    <tr>\n",
       "      <th>quartil 3 (75%)</th>\n",
       "      <td>1,996.00</td>\n",
       "      <td>73.66</td>\n",
       "      <td>19,585,221.75</td>\n",
       "      <td>17,357.88</td>\n",
       "    </tr>\n",
       "    <tr>\n",
       "      <th>máximo</th>\n",
       "      <td>2,007.00</td>\n",
       "      <td>82.67</td>\n",
       "      <td>1,318,683,096.00</td>\n",
       "      <td>113,523.13</td>\n",
       "    </tr>\n",
       "  </tbody>\n",
       "</table>\n",
       "</div>"
      ],
      "text/plain": [
       "                                          year              lifeExp  \\\n",
       "quantidade                            3,312.00             3,312.00   \n",
       "média                                 1,980.30                65.25   \n",
       "desvio padrao                            16.93                11.77   \n",
       "mínimo                                1,950.00                23.60   \n",
       "quartil 1 (25%)                       1,967.00                58.34   \n",
       "mediana - quartil 2 (50%)             1,982.00                69.61   \n",
       "quartil 3 (75%)                       1,996.00                73.66   \n",
       "máximo                                2,007.00                82.67   \n",
       "\n",
       "                                           pop            gdpPercap  \n",
       "quantidade                            3,312.00             3,312.00  \n",
       "média                            31,614,890.82            11,317.12  \n",
       "desvio padrao                   104,119,342.89            11,369.14  \n",
       "mínimo                               59,412.00               241.17  \n",
       "quartil 1 (25%)                   2,678,572.00             2,514.63  \n",
       "mediana - quartil 2 (50%)         7,557,218.50             7,838.51  \n",
       "quartil 3 (75%)                  19,585,221.75            17,357.88  \n",
       "máximo                        1,318,683,096.00           113,523.13  "
      ]
     },
     "execution_count": 7,
     "metadata": {},
     "output_type": "execute_result"
    }
   ],
   "source": [
    "descrever_colunas_quantitativas(df)"
   ]
  },
  {
   "cell_type": "markdown",
   "metadata": {},
   "source": [
    "### Descrição das colunas qualitativas do dataframe:"
   ]
  },
  {
   "cell_type": "code",
   "execution_count": 8,
   "metadata": {},
   "outputs": [],
   "source": [
    "def descrever_colunas_qualitativas(df):\n",
    "    # Descrevendo colunas qualitativas\n",
    "    colunas_qualitativas = df.select_dtypes(exclude=['number']).columns.values\n",
    "    df_qualitativo = df[colunas_qualitativas]\n",
    "    if len(df_qualitativo.columns) > 0:\n",
    "        descricao_qualitativa = pd.DataFrame({'Coluna': df_qualitativo.columns,\n",
    "                                              'Tipo': df_qualitativo.dtypes,\n",
    "                                              'Valores únicos': df_qualitativo.nunique(),\n",
    "                                              'Valor mais comum': df_qualitativo.describe().T['top'],\n",
    "                                              'Maior frequência': df_qualitativo.describe().T['freq'],\n",
    "                                              \n",
    "                                              })\n",
    "        descricao_qualitativa.reset_index(drop=True, inplace=True)\n",
    "        #print(\"Descrição das colunas não numéricas\")\n",
    "        #print(descricao_qualitativa)\n",
    "        return descricao_qualitativa\n",
    "    else:\n",
    "        print(\"O dataset não possui colunas qualitativas, todas são numéricas.\")"
   ]
  },
  {
   "cell_type": "code",
   "execution_count": 9,
   "metadata": {},
   "outputs": [
    {
     "data": {
      "text/html": [
       "<div>\n",
       "<style scoped>\n",
       "    .dataframe tbody tr th:only-of-type {\n",
       "        vertical-align: middle;\n",
       "    }\n",
       "\n",
       "    .dataframe tbody tr th {\n",
       "        vertical-align: top;\n",
       "    }\n",
       "\n",
       "    .dataframe thead th {\n",
       "        text-align: right;\n",
       "    }\n",
       "</style>\n",
       "<table border=\"1\" class=\"dataframe\">\n",
       "  <thead>\n",
       "    <tr style=\"text-align: right;\">\n",
       "      <th></th>\n",
       "      <th>Coluna</th>\n",
       "      <th>Tipo</th>\n",
       "      <th>Valores únicos</th>\n",
       "      <th>Valor mais comum</th>\n",
       "      <th>Maior frequência</th>\n",
       "    </tr>\n",
       "  </thead>\n",
       "  <tbody>\n",
       "    <tr>\n",
       "      <th>0</th>\n",
       "      <td>country</td>\n",
       "      <td>object</td>\n",
       "      <td>187</td>\n",
       "      <td>Switzerland</td>\n",
       "      <td>58</td>\n",
       "    </tr>\n",
       "    <tr>\n",
       "      <th>1</th>\n",
       "      <td>continent</td>\n",
       "      <td>object</td>\n",
       "      <td>6</td>\n",
       "      <td>Europe</td>\n",
       "      <td>1302</td>\n",
       "    </tr>\n",
       "  </tbody>\n",
       "</table>\n",
       "</div>"
      ],
      "text/plain": [
       "      Coluna    Tipo  Valores únicos Valor mais comum Maior frequência\n",
       "0    country  object             187      Switzerland               58\n",
       "1  continent  object               6           Europe             1302"
      ]
     },
     "execution_count": 9,
     "metadata": {},
     "output_type": "execute_result"
    }
   ],
   "source": [
    "descrever_colunas_qualitativas(df)"
   ]
  },
  {
   "cell_type": "markdown",
   "metadata": {},
   "source": [
    "### Avaliação das dimensões dos dataframes:"
   ]
  },
  {
   "cell_type": "code",
   "execution_count": 10,
   "metadata": {},
   "outputs": [],
   "source": [
    "def printDimensoesDf(df, nome=''):\n",
    "    print('As dimensões do dataset ' + nome +  ' são ' + str(df.shape[0]) + ' linhas e ' + str(df.shape[1]) + ' colunas.')"
   ]
  },
  {
   "cell_type": "code",
   "execution_count": 11,
   "metadata": {},
   "outputs": [
    {
     "name": "stdout",
     "output_type": "stream",
     "text": [
      "As dimensões do dataset atual são 3312 linhas e 6 colunas.\n"
     ]
    }
   ],
   "source": [
    "#exibir_dimensoes\n",
    "printDimensoesDf(df, 'atual')"
   ]
  },
  {
   "cell_type": "markdown",
   "metadata": {},
   "source": [
    "### Avaliação de colunas:"
   ]
  },
  {
   "cell_type": "code",
   "execution_count": 12,
   "metadata": {},
   "outputs": [
    {
     "data": {
      "text/plain": [
       "array(['country', 'continent', 'year', 'lifeExp', 'pop', 'gdpPercap'],\n",
       "      dtype=object)"
      ]
     },
     "execution_count": 12,
     "metadata": {},
     "output_type": "execute_result"
    }
   ],
   "source": [
    "# Colunas originais do dataframe\n",
    "colunas_df = df.columns.values\n",
    "colunas_df"
   ]
  },
  {
   "cell_type": "markdown",
   "metadata": {},
   "source": [
    "### Verificação de linhas duplicadas:"
   ]
  },
  {
   "cell_type": "code",
   "execution_count": 13,
   "metadata": {},
   "outputs": [],
   "source": [
    "def printNumDuplicadas(df):\n",
    "    num_duplicadas = df.duplicated().sum()\n",
    "    print('A quantidade de linhas duplicadas é ' + str(num_duplicadas) + '.')"
   ]
  },
  {
   "cell_type": "code",
   "execution_count": 14,
   "metadata": {},
   "outputs": [
    {
     "name": "stdout",
     "output_type": "stream",
     "text": [
      "A quantidade de linhas duplicadas é 0.\n"
     ]
    }
   ],
   "source": [
    "printNumDuplicadas(df)"
   ]
  },
  {
   "cell_type": "markdown",
   "metadata": {},
   "source": [
    "### Verificação de valores ausentes:"
   ]
  },
  {
   "cell_type": "code",
   "execution_count": 15,
   "metadata": {},
   "outputs": [
    {
     "data": {
      "text/plain": [
       "301"
      ]
     },
     "execution_count": 15,
     "metadata": {},
     "output_type": "execute_result"
    }
   ],
   "source": [
    "df.isna().sum().sum()"
   ]
  },
  {
   "cell_type": "code",
   "execution_count": 16,
   "metadata": {},
   "outputs": [],
   "source": [
    "def printValoresAusentes(df):\n",
    "    valores_na = df.isna().sum()\n",
    "    valores_na = valores_na[valores_na > 0].sort_values(ascending=False)\n",
    "\n",
    "    if not valores_na.empty:\n",
    "        colunas_na = ', '.join(valores_na.index.values)\n",
    "        print('As colunas com valores ausentes são: ' + colunas_na + '.')\n",
    "        print(valores_na)\n",
    "    else:\n",
    "        print('Não há colunas com valores ausentes')"
   ]
  },
  {
   "cell_type": "code",
   "execution_count": 17,
   "metadata": {
    "scrolled": true
   },
   "outputs": [
    {
     "name": "stdout",
     "output_type": "stream",
     "text": [
      "As colunas com valores ausentes são: continent.\n",
      "continent    301\n",
      "dtype: int64\n"
     ]
    }
   ],
   "source": [
    "printValoresAusentes(df)"
   ]
  },
  {
   "cell_type": "markdown",
   "metadata": {},
   "source": [
    "### Verificação dos tipos de dados das colunas:"
   ]
  },
  {
   "cell_type": "code",
   "execution_count": 18,
   "metadata": {},
   "outputs": [
    {
     "data": {
      "text/plain": [
       "int64      2\n",
       "object     2\n",
       "float64    2\n",
       "dtype: int64"
      ]
     },
     "execution_count": 18,
     "metadata": {},
     "output_type": "execute_result"
    }
   ],
   "source": [
    "df.dtypes.value_counts()"
   ]
  },
  {
   "cell_type": "markdown",
   "metadata": {},
   "source": [
    "---\n",
    "<a id='clean_and_tidiness'></a>\n",
    "## Limpeza e organização dos dados\n",
    "\n",
    "Nesta etapa, os problemas de organização e qualidade dos dados do dataframe serão resolvidos."
   ]
  },
  {
   "cell_type": "markdown",
   "metadata": {},
   "source": [
    "### Preenchendo valores de continent"
   ]
  },
  {
   "cell_type": "code",
   "execution_count": 19,
   "metadata": {
    "scrolled": true
   },
   "outputs": [
    {
     "data": {
      "text/plain": [
       "array(['Asia', 'Europe', 'Africa', 'Americas', nan, 'FSU', 'Oceania'],\n",
       "      dtype=object)"
      ]
     },
     "execution_count": 19,
     "metadata": {},
     "output_type": "execute_result"
    }
   ],
   "source": [
    "df['continent'].unique()"
   ]
  },
  {
   "cell_type": "code",
   "execution_count": 20,
   "metadata": {},
   "outputs": [
    {
     "data": {
      "text/plain": [
       "array(['Belarus', 'Kazakhstan', 'Latvia', 'Lithuania', 'Russia',\n",
       "       'Ukraine'], dtype=object)"
      ]
     },
     "execution_count": 20,
     "metadata": {},
     "output_type": "execute_result"
    }
   ],
   "source": [
    "df[df['continent']==\"FSU\"].country.unique()"
   ]
  },
  {
   "cell_type": "code",
   "execution_count": 21,
   "metadata": {
    "scrolled": true
   },
   "outputs": [
    {
     "data": {
      "text/plain": [
       "array(['Armenia', 'Aruba', 'Australia', 'Bahamas', 'Barbados', 'Belize',\n",
       "       'Canada', 'French Guiana', 'French Polynesia', 'Georgia',\n",
       "       'Grenada', 'Guadeloupe', 'Haiti', 'Hong Kong, China', 'Maldives',\n",
       "       'Martinique', 'Micronesia, Fed. Sts.', 'Netherlands Antilles',\n",
       "       'New Caledonia', 'Papua New Guinea', 'Reunion', 'Samoa',\n",
       "       'Sao Tome and Principe', 'Tonga', 'Uzbekistan', 'Vanuatu'],\n",
       "      dtype=object)"
      ]
     },
     "execution_count": 21,
     "metadata": {},
     "output_type": "execute_result"
    }
   ],
   "source": [
    "df[df['continent'].isna()].country.unique()"
   ]
  },
  {
   "cell_type": "code",
   "execution_count": 22,
   "metadata": {},
   "outputs": [],
   "source": [
    "asia = ['Armenia','Hong Kong, China', 'Maldives', 'Uzbekistan']\n",
    "americas = ['Aruba','Bahamas','Barbados','Belize','Canada','French Guiana','Grenada','Guadeloupe','Haiti','Martinique','Netherlands Antilles']\n",
    "africa = ['Reunion', 'Sao Tome and Principe']\n",
    "oceania = ['Australia','French Polynesia', 'Micronesia, Fed. Sts.','New Caledonia', 'Papua New Guinea', 'Tonga', 'Vanuatu', 'Samoa']\n",
    "FSU = ['Georgia']"
   ]
  },
  {
   "cell_type": "code",
   "execution_count": 23,
   "metadata": {},
   "outputs": [],
   "source": [
    "df.loc[df['country'].isin(asia), 'continent'] = 'Asia'\n",
    "df.loc[df['country'].isin(americas), 'continent'] = 'Americas'\n",
    "df.loc[df['country'].isin(africa), 'continent'] = 'Africa'\n",
    "df.loc[df['country'].isin(oceania), 'continent'] = 'Oceania'\n",
    "df.loc[df['country'].isin(FSU), 'continent'] = 'FSU'"
   ]
  },
  {
   "cell_type": "code",
   "execution_count": 24,
   "metadata": {},
   "outputs": [],
   "source": [
    "assert df.isnull().sum().sum() == 0"
   ]
  },
  {
   "cell_type": "code",
   "execution_count": 25,
   "metadata": {},
   "outputs": [],
   "source": [
    "assert np.all(df[df['country'].isin(asia)]['continent'] == 'Asia')\n",
    "assert np.all(df[df['country'].isin(americas)]['continent'] == 'Americas')\n",
    "assert np.all(df[df['country'].isin(africa)]['continent'] == 'Africa')\n",
    "assert np.all(df[df['country'].isin(oceania)]['continent'] == 'Oceania')\n",
    "assert np.all(df[df['country'].isin(FSU)]['continent'] == 'FSU')"
   ]
  },
  {
   "cell_type": "markdown",
   "metadata": {},
   "source": [
    "### Savando dataframe em arquivo .csv"
   ]
  },
  {
   "cell_type": "code",
   "execution_count": 26,
   "metadata": {},
   "outputs": [],
   "source": [
    "#df.to_csv('Gapminder_V2.csv', index=False)"
   ]
  },
  {
   "cell_type": "markdown",
   "metadata": {},
   "source": [
    "---\n",
    "<a id='eda'></a>\n",
    "## Análise Exploratória"
   ]
  },
  {
   "cell_type": "markdown",
   "metadata": {},
   "source": [
    "Colunas que podem ser analisadas:"
   ]
  },
  {
   "cell_type": "code",
   "execution_count": 27,
   "metadata": {},
   "outputs": [
    {
     "data": {
      "text/plain": [
       "Index(['country', 'continent', 'year', 'lifeExp', 'pop', 'gdpPercap'], dtype='object')"
      ]
     },
     "execution_count": 27,
     "metadata": {},
     "output_type": "execute_result"
    }
   ],
   "source": [
    "df.columns"
   ]
  },
  {
   "cell_type": "code",
   "execution_count": 28,
   "metadata": {},
   "outputs": [
    {
     "data": {
      "text/html": [
       "<div>\n",
       "<style scoped>\n",
       "    .dataframe tbody tr th:only-of-type {\n",
       "        vertical-align: middle;\n",
       "    }\n",
       "\n",
       "    .dataframe tbody tr th {\n",
       "        vertical-align: top;\n",
       "    }\n",
       "\n",
       "    .dataframe thead th {\n",
       "        text-align: right;\n",
       "    }\n",
       "</style>\n",
       "<table border=\"1\" class=\"dataframe\">\n",
       "  <thead>\n",
       "    <tr style=\"text-align: right;\">\n",
       "      <th></th>\n",
       "      <th>country</th>\n",
       "      <th>continent</th>\n",
       "      <th>year</th>\n",
       "      <th>lifeExp</th>\n",
       "      <th>pop</th>\n",
       "      <th>gdpPercap</th>\n",
       "    </tr>\n",
       "  </thead>\n",
       "  <tbody>\n",
       "    <tr>\n",
       "      <th>0</th>\n",
       "      <td>Afghanistan</td>\n",
       "      <td>Asia</td>\n",
       "      <td>1952</td>\n",
       "      <td>28.80</td>\n",
       "      <td>8425333</td>\n",
       "      <td>779.45</td>\n",
       "    </tr>\n",
       "    <tr>\n",
       "      <th>1</th>\n",
       "      <td>Afghanistan</td>\n",
       "      <td>Asia</td>\n",
       "      <td>1957</td>\n",
       "      <td>30.33</td>\n",
       "      <td>9240934</td>\n",
       "      <td>820.85</td>\n",
       "    </tr>\n",
       "    <tr>\n",
       "      <th>2</th>\n",
       "      <td>Afghanistan</td>\n",
       "      <td>Asia</td>\n",
       "      <td>1962</td>\n",
       "      <td>32.00</td>\n",
       "      <td>10267083</td>\n",
       "      <td>853.10</td>\n",
       "    </tr>\n",
       "    <tr>\n",
       "      <th>3</th>\n",
       "      <td>Afghanistan</td>\n",
       "      <td>Asia</td>\n",
       "      <td>1967</td>\n",
       "      <td>34.02</td>\n",
       "      <td>11537966</td>\n",
       "      <td>836.20</td>\n",
       "    </tr>\n",
       "    <tr>\n",
       "      <th>4</th>\n",
       "      <td>Afghanistan</td>\n",
       "      <td>Asia</td>\n",
       "      <td>1972</td>\n",
       "      <td>36.09</td>\n",
       "      <td>13079460</td>\n",
       "      <td>739.98</td>\n",
       "    </tr>\n",
       "  </tbody>\n",
       "</table>\n",
       "</div>"
      ],
      "text/plain": [
       "       country continent  year              lifeExp       pop  \\\n",
       "0  Afghanistan      Asia  1952                28.80   8425333   \n",
       "1  Afghanistan      Asia  1957                30.33   9240934   \n",
       "2  Afghanistan      Asia  1962                32.00  10267083   \n",
       "3  Afghanistan      Asia  1967                34.02  11537966   \n",
       "4  Afghanistan      Asia  1972                36.09  13079460   \n",
       "\n",
       "             gdpPercap  \n",
       "0               779.45  \n",
       "1               820.85  \n",
       "2               853.10  \n",
       "3               836.20  \n",
       "4               739.98  "
      ]
     },
     "execution_count": 28,
     "metadata": {},
     "output_type": "execute_result"
    }
   ],
   "source": [
    "df.head()"
   ]
  },
  {
   "cell_type": "markdown",
   "metadata": {},
   "source": [
    "Perguntas:\n",
    "\n",
    "    1) Quantos países foram analisados?\n",
    "    2) Qual o período (anos) foi analisado?\n",
    "    3) Quais os 5 países com maior expecativa de vida média no último ano registrado?\n",
    "    4) Quais os 5 países com maior Gross Domestic Product per capita média no último ano registrado?\n",
    "    5) Qual país mais populoso no último ano registrado?\n",
    "    6) Qual o valor da correlação linear entre expectativa de vida, população e ano?\n",
    "    7) Como são alguns dos gráficos de distribuição univariáveis e bivariáveis?"
   ]
  },
  {
   "cell_type": "markdown",
   "metadata": {},
   "source": [
    "    1) Quantos países foram analisados?"
   ]
  },
  {
   "cell_type": "code",
   "execution_count": 29,
   "metadata": {},
   "outputs": [
    {
     "data": {
      "text/plain": [
       "187"
      ]
     },
     "execution_count": 29,
     "metadata": {},
     "output_type": "execute_result"
    }
   ],
   "source": [
    "df['country'].nunique()"
   ]
  },
  {
   "cell_type": "markdown",
   "metadata": {},
   "source": [
    "    2) Qual o período (anos) foi analisado?"
   ]
  },
  {
   "cell_type": "code",
   "execution_count": 30,
   "metadata": {},
   "outputs": [
    {
     "data": {
      "text/plain": [
       "(1950, 2007)"
      ]
     },
     "execution_count": 30,
     "metadata": {},
     "output_type": "execute_result"
    }
   ],
   "source": [
    "df['year'].min(), df['year'].max()"
   ]
  },
  {
   "cell_type": "markdown",
   "metadata": {},
   "source": [
    "    3) Quais os 5 países com maior expecativa de vida média no último ano registrado?"
   ]
  },
  {
   "cell_type": "code",
   "execution_count": 37,
   "metadata": {},
   "outputs": [
    {
     "data": {
      "text/plain": [
       "country\n",
       "Martinique                  78.78\n",
       "Guadeloupe                  78.41\n",
       "Iceland                     76.23\n",
       "Cyprus                      76.13\n",
       "Sweden                      76.02\n",
       "Name: lifeExp, dtype: float64"
      ]
     },
     "execution_count": 37,
     "metadata": {},
     "output_type": "execute_result"
    }
   ],
   "source": [
    "df.groupby('country')['lifeExp'].mean().sort_values(ascending=False)[:5]"
   ]
  },
  {
   "cell_type": "markdown",
   "metadata": {},
   "source": [
    "    4) Quais os 5 países com maior Gross Domestic Product per capita média no último ano registrado?"
   ]
  },
  {
   "cell_type": "code",
   "execution_count": 38,
   "metadata": {},
   "outputs": [
    {
     "data": {
      "text/plain": [
       "country\n",
       "Kuwait                            65,332.91\n",
       "Qatar                             60,997.80\n",
       "Brunei                            54,716.02\n",
       "Luxembourg                        34,439.39\n",
       "United Arab Emirates              33,541.70\n",
       "Name: gdpPercap, dtype: float64"
      ]
     },
     "execution_count": 38,
     "metadata": {},
     "output_type": "execute_result"
    }
   ],
   "source": [
    "df.groupby('country')['gdpPercap'].mean().sort_values(ascending=False)[:5]"
   ]
  },
  {
   "cell_type": "markdown",
   "metadata": {},
   "source": [
    "    5) Qual país mais populoso no último ano registrado?"
   ]
  },
  {
   "cell_type": "code",
   "execution_count": 39,
   "metadata": {},
   "outputs": [
    {
     "data": {
      "text/plain": [
       "2007"
      ]
     },
     "execution_count": 39,
     "metadata": {},
     "output_type": "execute_result"
    }
   ],
   "source": [
    "ultimo_ano = df['year'].max()\n",
    "ultimo_ano"
   ]
  },
  {
   "cell_type": "code",
   "execution_count": 46,
   "metadata": {},
   "outputs": [
    {
     "data": {
      "text/plain": [
       "country\n",
       "China            1318683096\n",
       "India            1110396331\n",
       "United States     301139947\n",
       "Indonesia         223547000\n",
       "Brazil            190010647\n",
       "Name: pop, dtype: int64"
      ]
     },
     "execution_count": 46,
     "metadata": {},
     "output_type": "execute_result"
    }
   ],
   "source": [
    "df_ultimo_ano = df.query('year == @ultimo_ano')\n",
    "df_ultimo_ano = df_ultimo_ano.set_index('country')\n",
    "df_ultimo_ano['pop'].sort_values(ascending=False)[:5]"
   ]
  },
  {
   "cell_type": "markdown",
   "metadata": {},
   "source": [
    "    6) Qual o valor da correlação linear entre expectativa de vida, população e ano?"
   ]
  },
  {
   "cell_type": "code",
   "execution_count": 47,
   "metadata": {},
   "outputs": [],
   "source": [
    "def plotar_correlacao(df):\n",
    "    print('Mapa de calor das correlações')\n",
    "    corrMatrix = df.corr()\n",
    "    fig = plt.figure(figsize=(13, 9))\n",
    "    ax = sns.heatmap(corrMatrix, annot=True)\n",
    "    ax.set_title('Gráfico de calor de correlações das variáveis')\n",
    "    plt.show()"
   ]
  },
  {
   "cell_type": "code",
   "execution_count": 49,
   "metadata": {},
   "outputs": [
    {
     "name": "stdout",
     "output_type": "stream",
     "text": [
      "Mapa de calor das correlações\n"
     ]
    },
    {
     "data": {
      "image/png": "[encoded data removed]",
      "text/plain": [
       "<Figure size 936x648 with 2 Axes>"
      ]
     },
     "metadata": {
      "needs_background": "light"
     },
     "output_type": "display_data"
    }
   ],
   "source": [
    "plotar_correlacao(df[['lifeExp','pop','year']])"
   ]
  },
  {
   "cell_type": "markdown",
   "metadata": {},
   "source": [
    "    7) Como são alguns dos gráficos de distribuição univariáveis e bivariáveis?"
   ]
  },
  {
   "cell_type": "code",
   "execution_count": 55,
   "metadata": {},
   "outputs": [
    {
     "data": {
      "image/png": "[encoded data removed]",
      "text/plain": [
       "<Figure size 720x720 with 20 Axes>"
      ]
     },
     "metadata": {
      "needs_background": "light"
     },
     "output_type": "display_data"
    }
   ],
   "source": [
    "sns.pairplot(df);"
   ]
  }
 ],
 "metadata": {
  "kernelspec": {
   "display_name": "Python 3",
   "language": "python",
   "name": "python3"
  },
  "language_info": {
   "codemirror_mode": {
    "name": "ipython",
    "version": 3
   },
   "file_extension": ".py",
   "mimetype": "text/x-python",
   "name": "python",
   "nbconvert_exporter": "python",
   "pygments_lexer": "ipython3",
   "version": "3.7.6"
  }
 },
 "nbformat": 4,
 "nbformat_minor": 4
}
