{
 "cells": [
  {
   "cell_type": "markdown",
   "metadata": {},
   "source": [
    "# Digital Innovation One - Análise de dados com Python e Pandas (2)\n",
    "\n",
    "<pre>\n",
    "Autor: Leonardo Simões\n",
    "Data: 23/06/2021\n",
    "</pre>"
   ]
  },
  {
   "cell_type": "markdown",
   "metadata": {},
   "source": [
    "---\n",
    "## Sumário\n",
    "- [Introdução](#intro)\n",
    "- [Preparação dos dados](#data_wrangling) \n",
    "- [Aquisição dos dados](#gather)\n",
    "- [Avaliação dos dados](#evaluation)\n",
    "- [Análise Exploratória](#eda)"
   ]
  },
  {
   "cell_type": "markdown",
   "metadata": {},
   "source": [
    "---\n",
    "<a id='intro'></a>\n",
    "## Introdução\n",
    "\n",
    "Projeto prático \"Análise de dados com Python e Pandas\" do Bootcamp \"Banco Carrefour Data Engineer\" da Digital Innovation One."
   ]
  },
  {
   "cell_type": "markdown",
   "metadata": {},
   "source": [
    "----\n",
    "<a id='data_wrangling'></a>\n",
    "## Preparação dos dados\n",
    "\n",
    "Esta etapa antecede a análise. Aqui, os dados são carregados, avaliados, organizados e limpos, para garantir que as etapas seguintes sejam feitas de modo correto, conscistente e suscinto. A etapa de preparação de dados é divida em outras que consistem nas tarefas citadas anteriormente."
   ]
  },
  {
   "cell_type": "code",
   "execution_count": 1,
   "metadata": {},
   "outputs": [],
   "source": [
    "# imports das bibliotecas usadas até a parte da análise\n",
    "import numpy as np\n",
    "import pandas as pd\n",
    "import matplotlib.pyplot as plt\n",
    "import seaborn as sns\n",
    "\n",
    "%matplotlib inline"
   ]
  },
  {
   "cell_type": "code",
   "execution_count": 2,
   "metadata": {},
   "outputs": [],
   "source": [
    "# Alterar a exibição de float para duas casas decimais\n",
    "pd.options.display.float_format = '{:20,.2f}'.format"
   ]
  },
  {
   "cell_type": "markdown",
   "metadata": {},
   "source": [
    "---\n",
    "<a id='gather'></a>\n",
    "## Aquisição dos dados\n",
    "\n",
    "Nesta etapa os dados são carregados em objeto(s) pandas do tipo dataframe. "
   ]
  },
  {
   "cell_type": "code",
   "execution_count": 3,
   "metadata": {},
   "outputs": [
    {
     "data": {
      "text/html": [
       "<div>\n",
       "<style scoped>\n",
       "    .dataframe tbody tr th:only-of-type {\n",
       "        vertical-align: middle;\n",
       "    }\n",
       "\n",
       "    .dataframe tbody tr th {\n",
       "        vertical-align: top;\n",
       "    }\n",
       "\n",
       "    .dataframe thead th {\n",
       "        text-align: right;\n",
       "    }\n",
       "</style>\n",
       "<table border=\"1\" class=\"dataframe\">\n",
       "  <thead>\n",
       "    <tr style=\"text-align: right;\">\n",
       "      <th></th>\n",
       "      <th>Data Venda</th>\n",
       "      <th>Data Envio</th>\n",
       "      <th>ID Loja</th>\n",
       "      <th>ID Produto</th>\n",
       "      <th>ID Cliente</th>\n",
       "      <th>No. Venda</th>\n",
       "      <th>Custo Unitário</th>\n",
       "      <th>Preço Unitário</th>\n",
       "      <th>Quantidade</th>\n",
       "      <th>Valor Desconto</th>\n",
       "      <th>Valor Venda</th>\n",
       "      <th>Produto</th>\n",
       "      <th>Fabricante</th>\n",
       "      <th>Marca</th>\n",
       "      <th>Classe</th>\n",
       "      <th>Cor</th>\n",
       "    </tr>\n",
       "  </thead>\n",
       "  <tbody>\n",
       "    <tr>\n",
       "      <th>0</th>\n",
       "      <td>2008-05-09</td>\n",
       "      <td>2008-05-29</td>\n",
       "      <td>199</td>\n",
       "      <td>384</td>\n",
       "      <td>18839</td>\n",
       "      <td>200805093CS607</td>\n",
       "      <td>348.58</td>\n",
       "      <td>758.00</td>\n",
       "      <td>6</td>\n",
       "      <td>0.00</td>\n",
       "      <td>4,548.00</td>\n",
       "      <td>Adventure Works Laptop15.4W M1548 Red</td>\n",
       "      <td>Adventure Works</td>\n",
       "      <td>Adventure Works</td>\n",
       "      <td>Regular</td>\n",
       "      <td>Red</td>\n",
       "    </tr>\n",
       "    <tr>\n",
       "      <th>1</th>\n",
       "      <td>2008-05-12</td>\n",
       "      <td>2008-05-17</td>\n",
       "      <td>306</td>\n",
       "      <td>384</td>\n",
       "      <td>19051</td>\n",
       "      <td>200805123CS567</td>\n",
       "      <td>348.58</td>\n",
       "      <td>758.00</td>\n",
       "      <td>6</td>\n",
       "      <td>0.00</td>\n",
       "      <td>4,548.00</td>\n",
       "      <td>Adventure Works Laptop15.4W M1548 Red</td>\n",
       "      <td>Adventure Works</td>\n",
       "      <td>Adventure Works</td>\n",
       "      <td>Regular</td>\n",
       "      <td>Red</td>\n",
       "    </tr>\n",
       "    <tr>\n",
       "      <th>2</th>\n",
       "      <td>2008-05-14</td>\n",
       "      <td>2008-05-20</td>\n",
       "      <td>306</td>\n",
       "      <td>384</td>\n",
       "      <td>19052</td>\n",
       "      <td>200805143CS576</td>\n",
       "      <td>348.58</td>\n",
       "      <td>758.00</td>\n",
       "      <td>6</td>\n",
       "      <td>0.00</td>\n",
       "      <td>4,548.00</td>\n",
       "      <td>Adventure Works Laptop15.4W M1548 Red</td>\n",
       "      <td>Adventure Works</td>\n",
       "      <td>Adventure Works</td>\n",
       "      <td>Regular</td>\n",
       "      <td>Red</td>\n",
       "    </tr>\n",
       "  </tbody>\n",
       "</table>\n",
       "</div>"
      ],
      "text/plain": [
       "  Data Venda Data Envio  ID Loja  ID Produto  ID Cliente       No. Venda  \\\n",
       "0 2008-05-09 2008-05-29      199         384       18839  200805093CS607   \n",
       "1 2008-05-12 2008-05-17      306         384       19051  200805123CS567   \n",
       "2 2008-05-14 2008-05-20      306         384       19052  200805143CS576   \n",
       "\n",
       "        Custo Unitário       Preço Unitário  Quantidade       Valor Desconto  \\\n",
       "0               348.58               758.00           6                 0.00   \n",
       "1               348.58               758.00           6                 0.00   \n",
       "2               348.58               758.00           6                 0.00   \n",
       "\n",
       "           Valor Venda                                Produto  \\\n",
       "0             4,548.00  Adventure Works Laptop15.4W M1548 Red   \n",
       "1             4,548.00  Adventure Works Laptop15.4W M1548 Red   \n",
       "2             4,548.00  Adventure Works Laptop15.4W M1548 Red   \n",
       "\n",
       "        Fabricante            Marca   Classe  Cor  \n",
       "0  Adventure Works  Adventure Works  Regular  Red  \n",
       "1  Adventure Works  Adventure Works  Regular  Red  \n",
       "2  Adventure Works  Adventure Works  Regular  Red  "
      ]
     },
     "execution_count": 3,
     "metadata": {},
     "output_type": "execute_result"
    }
   ],
   "source": [
    "df = pd.read_excel(\"./datasets/AdventureWorks.xlsx\")\n",
    "df.head(3)"
   ]
  },
  {
   "cell_type": "markdown",
   "metadata": {},
   "source": [
    "---\n",
    "<a id='evaluation'></a>\n",
    "## Avaliação dos dados\n",
    "\n",
    "Nesta etapa, os dataframes são examinados para procurar problemas de organização e qualidade dos dados."
   ]
  },
  {
   "cell_type": "markdown",
   "metadata": {},
   "source": [
    "### Informações gerais do dataframe:"
   ]
  },
  {
   "cell_type": "code",
   "execution_count": 4,
   "metadata": {},
   "outputs": [],
   "source": [
    "def exibir_informacoes_gerais(df):\n",
    "    # Exibindo informações gerais do dataframe\n",
    "    valores_na = df.isna().sum()\n",
    "    informacoes = pd.DataFrame({'Coluna': df.columns,\n",
    "                                'Tipo': df.dtypes,\n",
    "                                'Quantidade de ausentes': valores_na,\n",
    "                                'Porcentagem de ausentes': valores_na / df.shape[0]\n",
    "                                })\n",
    "    informacoes.reset_index(drop=True, inplace=True)\n",
    "    informacoes['Porcentagem de ausentes'] = informacoes['Porcentagem de ausentes'].round(4) * 100\n",
    "    informacoes['Porcentagem de ausentes'] = informacoes['Porcentagem de ausentes'].astype(str) + ' %'\n",
    "    #print(\"Informações gerais das colunas\")\n",
    "    #print(informacoes)\n",
    "    return informacoes"
   ]
  },
  {
   "cell_type": "code",
   "execution_count": 5,
   "metadata": {},
   "outputs": [
    {
     "data": {
      "text/html": [
       "<div>\n",
       "<style scoped>\n",
       "    .dataframe tbody tr th:only-of-type {\n",
       "        vertical-align: middle;\n",
       "    }\n",
       "\n",
       "    .dataframe tbody tr th {\n",
       "        vertical-align: top;\n",
       "    }\n",
       "\n",
       "    .dataframe thead th {\n",
       "        text-align: right;\n",
       "    }\n",
       "</style>\n",
       "<table border=\"1\" class=\"dataframe\">\n",
       "  <thead>\n",
       "    <tr style=\"text-align: right;\">\n",
       "      <th></th>\n",
       "      <th>Coluna</th>\n",
       "      <th>Tipo</th>\n",
       "      <th>Quantidade de ausentes</th>\n",
       "      <th>Porcentagem de ausentes</th>\n",
       "    </tr>\n",
       "  </thead>\n",
       "  <tbody>\n",
       "    <tr>\n",
       "      <th>0</th>\n",
       "      <td>Data Venda</td>\n",
       "      <td>datetime64[ns]</td>\n",
       "      <td>0</td>\n",
       "      <td>0.0 %</td>\n",
       "    </tr>\n",
       "    <tr>\n",
       "      <th>1</th>\n",
       "      <td>Data Envio</td>\n",
       "      <td>datetime64[ns]</td>\n",
       "      <td>0</td>\n",
       "      <td>0.0 %</td>\n",
       "    </tr>\n",
       "    <tr>\n",
       "      <th>2</th>\n",
       "      <td>ID Loja</td>\n",
       "      <td>int64</td>\n",
       "      <td>0</td>\n",
       "      <td>0.0 %</td>\n",
       "    </tr>\n",
       "    <tr>\n",
       "      <th>3</th>\n",
       "      <td>ID Produto</td>\n",
       "      <td>int64</td>\n",
       "      <td>0</td>\n",
       "      <td>0.0 %</td>\n",
       "    </tr>\n",
       "    <tr>\n",
       "      <th>4</th>\n",
       "      <td>ID Cliente</td>\n",
       "      <td>int64</td>\n",
       "      <td>0</td>\n",
       "      <td>0.0 %</td>\n",
       "    </tr>\n",
       "    <tr>\n",
       "      <th>5</th>\n",
       "      <td>No. Venda</td>\n",
       "      <td>object</td>\n",
       "      <td>0</td>\n",
       "      <td>0.0 %</td>\n",
       "    </tr>\n",
       "    <tr>\n",
       "      <th>6</th>\n",
       "      <td>Custo Unitário</td>\n",
       "      <td>float64</td>\n",
       "      <td>0</td>\n",
       "      <td>0.0 %</td>\n",
       "    </tr>\n",
       "    <tr>\n",
       "      <th>7</th>\n",
       "      <td>Preço Unitário</td>\n",
       "      <td>float64</td>\n",
       "      <td>0</td>\n",
       "      <td>0.0 %</td>\n",
       "    </tr>\n",
       "    <tr>\n",
       "      <th>8</th>\n",
       "      <td>Quantidade</td>\n",
       "      <td>int64</td>\n",
       "      <td>0</td>\n",
       "      <td>0.0 %</td>\n",
       "    </tr>\n",
       "    <tr>\n",
       "      <th>9</th>\n",
       "      <td>Valor Desconto</td>\n",
       "      <td>float64</td>\n",
       "      <td>0</td>\n",
       "      <td>0.0 %</td>\n",
       "    </tr>\n",
       "    <tr>\n",
       "      <th>10</th>\n",
       "      <td>Valor Venda</td>\n",
       "      <td>float64</td>\n",
       "      <td>0</td>\n",
       "      <td>0.0 %</td>\n",
       "    </tr>\n",
       "    <tr>\n",
       "      <th>11</th>\n",
       "      <td>Produto</td>\n",
       "      <td>object</td>\n",
       "      <td>0</td>\n",
       "      <td>0.0 %</td>\n",
       "    </tr>\n",
       "    <tr>\n",
       "      <th>12</th>\n",
       "      <td>Fabricante</td>\n",
       "      <td>object</td>\n",
       "      <td>0</td>\n",
       "      <td>0.0 %</td>\n",
       "    </tr>\n",
       "    <tr>\n",
       "      <th>13</th>\n",
       "      <td>Marca</td>\n",
       "      <td>object</td>\n",
       "      <td>0</td>\n",
       "      <td>0.0 %</td>\n",
       "    </tr>\n",
       "    <tr>\n",
       "      <th>14</th>\n",
       "      <td>Classe</td>\n",
       "      <td>object</td>\n",
       "      <td>0</td>\n",
       "      <td>0.0 %</td>\n",
       "    </tr>\n",
       "    <tr>\n",
       "      <th>15</th>\n",
       "      <td>Cor</td>\n",
       "      <td>object</td>\n",
       "      <td>0</td>\n",
       "      <td>0.0 %</td>\n",
       "    </tr>\n",
       "  </tbody>\n",
       "</table>\n",
       "</div>"
      ],
      "text/plain": [
       "            Coluna            Tipo  Quantidade de ausentes  \\\n",
       "0       Data Venda  datetime64[ns]                       0   \n",
       "1       Data Envio  datetime64[ns]                       0   \n",
       "2          ID Loja           int64                       0   \n",
       "3       ID Produto           int64                       0   \n",
       "4       ID Cliente           int64                       0   \n",
       "5        No. Venda          object                       0   \n",
       "6   Custo Unitário         float64                       0   \n",
       "7   Preço Unitário         float64                       0   \n",
       "8       Quantidade           int64                       0   \n",
       "9   Valor Desconto         float64                       0   \n",
       "10     Valor Venda         float64                       0   \n",
       "11         Produto          object                       0   \n",
       "12      Fabricante          object                       0   \n",
       "13           Marca          object                       0   \n",
       "14          Classe          object                       0   \n",
       "15             Cor          object                       0   \n",
       "\n",
       "   Porcentagem de ausentes  \n",
       "0                    0.0 %  \n",
       "1                    0.0 %  \n",
       "2                    0.0 %  \n",
       "3                    0.0 %  \n",
       "4                    0.0 %  \n",
       "5                    0.0 %  \n",
       "6                    0.0 %  \n",
       "7                    0.0 %  \n",
       "8                    0.0 %  \n",
       "9                    0.0 %  \n",
       "10                   0.0 %  \n",
       "11                   0.0 %  \n",
       "12                   0.0 %  \n",
       "13                   0.0 %  \n",
       "14                   0.0 %  \n",
       "15                   0.0 %  "
      ]
     },
     "execution_count": 5,
     "metadata": {},
     "output_type": "execute_result"
    }
   ],
   "source": [
    "exibir_informacoes_gerais(df)"
   ]
  },
  {
   "cell_type": "markdown",
   "metadata": {},
   "source": [
    "### Descrição das colunas quantitativas do dataframe:"
   ]
  },
  {
   "cell_type": "code",
   "execution_count": 6,
   "metadata": {},
   "outputs": [],
   "source": [
    "def descrever_colunas_quantitativas(df):\n",
    "    # Descrevendo colunas numéricas (quantitativas)\n",
    "    descricao_df = df.describe()\n",
    "    descricao_df.index = ['quantidade', 'média', 'desvio padrao', 'mínimo', 'quartil 1 (25%)',\n",
    "                          'mediana - quartil 2 (50%)', 'quartil 3 (75%)', 'máximo']\n",
    "    # print(\"Descrição de colunas numéricas\")\n",
    "    # print(descricao_df)\n",
    "    return descricao_df"
   ]
  },
  {
   "cell_type": "code",
   "execution_count": 7,
   "metadata": {},
   "outputs": [
    {
     "data": {
      "text/html": [
       "<div>\n",
       "<style scoped>\n",
       "    .dataframe tbody tr th:only-of-type {\n",
       "        vertical-align: middle;\n",
       "    }\n",
       "\n",
       "    .dataframe tbody tr th {\n",
       "        vertical-align: top;\n",
       "    }\n",
       "\n",
       "    .dataframe thead th {\n",
       "        text-align: right;\n",
       "    }\n",
       "</style>\n",
       "<table border=\"1\" class=\"dataframe\">\n",
       "  <thead>\n",
       "    <tr style=\"text-align: right;\">\n",
       "      <th></th>\n",
       "      <th>ID Loja</th>\n",
       "      <th>ID Produto</th>\n",
       "      <th>ID Cliente</th>\n",
       "      <th>Custo Unitário</th>\n",
       "      <th>Preço Unitário</th>\n",
       "      <th>Quantidade</th>\n",
       "      <th>Valor Desconto</th>\n",
       "      <th>Valor Venda</th>\n",
       "    </tr>\n",
       "  </thead>\n",
       "  <tbody>\n",
       "    <tr>\n",
       "      <th>quantidade</th>\n",
       "      <td>904.00</td>\n",
       "      <td>904.00</td>\n",
       "      <td>904.00</td>\n",
       "      <td>904.00</td>\n",
       "      <td>904.00</td>\n",
       "      <td>904.00</td>\n",
       "      <td>904.00</td>\n",
       "      <td>904.00</td>\n",
       "    </tr>\n",
       "    <tr>\n",
       "      <th>média</th>\n",
       "      <td>270.02</td>\n",
       "      <td>1,225.24</td>\n",
       "      <td>19,029.09</td>\n",
       "      <td>272.01</td>\n",
       "      <td>742.53</td>\n",
       "      <td>62.95</td>\n",
       "      <td>689.12</td>\n",
       "      <td>6,620.14</td>\n",
       "    </tr>\n",
       "    <tr>\n",
       "      <th>desvio padrao</th>\n",
       "      <td>50.96</td>\n",
       "      <td>706.70</td>\n",
       "      <td>96.43</td>\n",
       "      <td>129.77</td>\n",
       "      <td>368.59</td>\n",
       "      <td>148.95</td>\n",
       "      <td>822.36</td>\n",
       "      <td>4,319.41</td>\n",
       "    </tr>\n",
       "    <tr>\n",
       "      <th>mínimo</th>\n",
       "      <td>199.00</td>\n",
       "      <td>366.00</td>\n",
       "      <td>18,815.00</td>\n",
       "      <td>5.09</td>\n",
       "      <td>9.99</td>\n",
       "      <td>2.00</td>\n",
       "      <td>0.00</td>\n",
       "      <td>159.84</td>\n",
       "    </tr>\n",
       "    <tr>\n",
       "      <th>quartil 1 (25%)</th>\n",
       "      <td>199.00</td>\n",
       "      <td>384.00</td>\n",
       "      <td>18,964.75</td>\n",
       "      <td>324.69</td>\n",
       "      <td>758.00</td>\n",
       "      <td>6.00</td>\n",
       "      <td>0.00</td>\n",
       "      <td>3,920.00</td>\n",
       "    </tr>\n",
       "    <tr>\n",
       "      <th>mediana - quartil 2 (50%)</th>\n",
       "      <td>306.00</td>\n",
       "      <td>1,202.00</td>\n",
       "      <td>19,060.00</td>\n",
       "      <td>330.66</td>\n",
       "      <td>980.00</td>\n",
       "      <td>9.00</td>\n",
       "      <td>461.17</td>\n",
       "      <td>5,798.70</td>\n",
       "    </tr>\n",
       "    <tr>\n",
       "      <th>quartil 3 (75%)</th>\n",
       "      <td>307.00</td>\n",
       "      <td>1,226.00</td>\n",
       "      <td>19,107.00</td>\n",
       "      <td>348.58</td>\n",
       "      <td>998.00</td>\n",
       "      <td>17.00</td>\n",
       "      <td>1,005.08</td>\n",
       "      <td>7,986.00</td>\n",
       "    </tr>\n",
       "    <tr>\n",
       "      <th>máximo</th>\n",
       "      <td>307.00</td>\n",
       "      <td>2,497.00</td>\n",
       "      <td>19,145.00</td>\n",
       "      <td>348.58</td>\n",
       "      <td>999.00</td>\n",
       "      <td>1,560.00</td>\n",
       "      <td>6,272.00</td>\n",
       "      <td>29,400.00</td>\n",
       "    </tr>\n",
       "  </tbody>\n",
       "</table>\n",
       "</div>"
      ],
      "text/plain": [
       "                                       ID Loja           ID Produto  \\\n",
       "quantidade                              904.00               904.00   \n",
       "média                                   270.02             1,225.24   \n",
       "desvio padrao                            50.96               706.70   \n",
       "mínimo                                  199.00               366.00   \n",
       "quartil 1 (25%)                         199.00               384.00   \n",
       "mediana - quartil 2 (50%)               306.00             1,202.00   \n",
       "quartil 3 (75%)                         307.00             1,226.00   \n",
       "máximo                                  307.00             2,497.00   \n",
       "\n",
       "                                    ID Cliente       Custo Unitário  \\\n",
       "quantidade                              904.00               904.00   \n",
       "média                                19,029.09               272.01   \n",
       "desvio padrao                            96.43               129.77   \n",
       "mínimo                               18,815.00                 5.09   \n",
       "quartil 1 (25%)                      18,964.75               324.69   \n",
       "mediana - quartil 2 (50%)            19,060.00               330.66   \n",
       "quartil 3 (75%)                      19,107.00               348.58   \n",
       "máximo                               19,145.00               348.58   \n",
       "\n",
       "                                Preço Unitário           Quantidade  \\\n",
       "quantidade                              904.00               904.00   \n",
       "média                                   742.53                62.95   \n",
       "desvio padrao                           368.59               148.95   \n",
       "mínimo                                    9.99                 2.00   \n",
       "quartil 1 (25%)                         758.00                 6.00   \n",
       "mediana - quartil 2 (50%)               980.00                 9.00   \n",
       "quartil 3 (75%)                         998.00                17.00   \n",
       "máximo                                  999.00             1,560.00   \n",
       "\n",
       "                                Valor Desconto          Valor Venda  \n",
       "quantidade                              904.00               904.00  \n",
       "média                                   689.12             6,620.14  \n",
       "desvio padrao                           822.36             4,319.41  \n",
       "mínimo                                    0.00               159.84  \n",
       "quartil 1 (25%)                           0.00             3,920.00  \n",
       "mediana - quartil 2 (50%)               461.17             5,798.70  \n",
       "quartil 3 (75%)                       1,005.08             7,986.00  \n",
       "máximo                                6,272.00            29,400.00  "
      ]
     },
     "execution_count": 7,
     "metadata": {},
     "output_type": "execute_result"
    }
   ],
   "source": [
    "descrever_colunas_quantitativas(df)"
   ]
  },
  {
   "cell_type": "markdown",
   "metadata": {},
   "source": [
    "### Descrição das colunas qualitativas do dataframe:"
   ]
  },
  {
   "cell_type": "code",
   "execution_count": 8,
   "metadata": {},
   "outputs": [],
   "source": [
    "def descrever_colunas_qualitativas(df):\n",
    "    # Descrevendo colunas qualitativas\n",
    "    colunas_qualitativas = df.select_dtypes(exclude=['number']).columns.values\n",
    "    df_qualitativo = df[colunas_qualitativas]\n",
    "    if len(df_qualitativo.columns) > 0:\n",
    "        descricao_qualitativa = pd.DataFrame({'Coluna': df_qualitativo.columns,\n",
    "                                              'Tipo': df_qualitativo.dtypes,\n",
    "                                              'Valores únicos': df_qualitativo.nunique(),\n",
    "                                              'Valor mais comum': df_qualitativo.describe().T['top'],\n",
    "                                              'Maior frequência': df_qualitativo.describe().T['freq'],\n",
    "                                              \n",
    "                                              })\n",
    "        descricao_qualitativa.reset_index(drop=True, inplace=True)\n",
    "        #print(\"Descrição das colunas não numéricas\")\n",
    "        #print(descricao_qualitativa)\n",
    "        return descricao_qualitativa\n",
    "    else:\n",
    "        print(\"O dataset não possui colunas qualitativas, todas são numéricas.\")"
   ]
  },
  {
   "cell_type": "code",
   "execution_count": 9,
   "metadata": {},
   "outputs": [
    {
     "data": {
      "text/html": [
       "<div>\n",
       "<style scoped>\n",
       "    .dataframe tbody tr th:only-of-type {\n",
       "        vertical-align: middle;\n",
       "    }\n",
       "\n",
       "    .dataframe tbody tr th {\n",
       "        vertical-align: top;\n",
       "    }\n",
       "\n",
       "    .dataframe thead th {\n",
       "        text-align: right;\n",
       "    }\n",
       "</style>\n",
       "<table border=\"1\" class=\"dataframe\">\n",
       "  <thead>\n",
       "    <tr style=\"text-align: right;\">\n",
       "      <th></th>\n",
       "      <th>Coluna</th>\n",
       "      <th>Tipo</th>\n",
       "      <th>Valores únicos</th>\n",
       "      <th>Valor mais comum</th>\n",
       "      <th>Maior frequência</th>\n",
       "    </tr>\n",
       "  </thead>\n",
       "  <tbody>\n",
       "    <tr>\n",
       "      <th>0</th>\n",
       "      <td>Data Venda</td>\n",
       "      <td>datetime64[ns]</td>\n",
       "      <td>483</td>\n",
       "      <td>2008-06-07 00:00:00</td>\n",
       "      <td>6</td>\n",
       "    </tr>\n",
       "    <tr>\n",
       "      <th>1</th>\n",
       "      <td>Data Envio</td>\n",
       "      <td>datetime64[ns]</td>\n",
       "      <td>478</td>\n",
       "      <td>2008-07-03 00:00:00</td>\n",
       "      <td>7</td>\n",
       "    </tr>\n",
       "    <tr>\n",
       "      <th>2</th>\n",
       "      <td>No. Venda</td>\n",
       "      <td>object</td>\n",
       "      <td>821</td>\n",
       "      <td>200802124CS549</td>\n",
       "      <td>3</td>\n",
       "    </tr>\n",
       "    <tr>\n",
       "      <th>3</th>\n",
       "      <td>Produto</td>\n",
       "      <td>object</td>\n",
       "      <td>9</td>\n",
       "      <td>Adventure Works Laptop15.4W M1548 Black</td>\n",
       "      <td>123</td>\n",
       "    </tr>\n",
       "    <tr>\n",
       "      <th>4</th>\n",
       "      <td>Fabricante</td>\n",
       "      <td>object</td>\n",
       "      <td>3</td>\n",
       "      <td>Fabrikam, Inc.</td>\n",
       "      <td>494</td>\n",
       "    </tr>\n",
       "    <tr>\n",
       "      <th>5</th>\n",
       "      <td>Marca</td>\n",
       "      <td>object</td>\n",
       "      <td>3</td>\n",
       "      <td>Fabrikam</td>\n",
       "      <td>494</td>\n",
       "    </tr>\n",
       "    <tr>\n",
       "      <th>6</th>\n",
       "      <td>Classe</td>\n",
       "      <td>object</td>\n",
       "      <td>2</td>\n",
       "      <td>Regular</td>\n",
       "      <td>732</td>\n",
       "    </tr>\n",
       "    <tr>\n",
       "      <th>7</th>\n",
       "      <td>Cor</td>\n",
       "      <td>object</td>\n",
       "      <td>5</td>\n",
       "      <td>Black</td>\n",
       "      <td>315</td>\n",
       "    </tr>\n",
       "  </tbody>\n",
       "</table>\n",
       "</div>"
      ],
      "text/plain": [
       "       Coluna            Tipo  Valores únicos  \\\n",
       "0  Data Venda  datetime64[ns]             483   \n",
       "1  Data Envio  datetime64[ns]             478   \n",
       "2   No. Venda          object             821   \n",
       "3     Produto          object               9   \n",
       "4  Fabricante          object               3   \n",
       "5       Marca          object               3   \n",
       "6      Classe          object               2   \n",
       "7         Cor          object               5   \n",
       "\n",
       "                          Valor mais comum Maior frequência  \n",
       "0                      2008-06-07 00:00:00                6  \n",
       "1                      2008-07-03 00:00:00                7  \n",
       "2                           200802124CS549                3  \n",
       "3  Adventure Works Laptop15.4W M1548 Black              123  \n",
       "4                           Fabrikam, Inc.              494  \n",
       "5                                 Fabrikam              494  \n",
       "6                                  Regular              732  \n",
       "7                                    Black              315  "
      ]
     },
     "execution_count": 9,
     "metadata": {},
     "output_type": "execute_result"
    }
   ],
   "source": [
    "descrever_colunas_qualitativas(df)"
   ]
  },
  {
   "cell_type": "markdown",
   "metadata": {},
   "source": [
    "### Avaliação das dimensões dos dataframes:"
   ]
  },
  {
   "cell_type": "code",
   "execution_count": 10,
   "metadata": {},
   "outputs": [],
   "source": [
    "def printDimensoesDf(df, nome=''):\n",
    "    print('As dimensões do dataset ' + nome +  ' são ' + str(df.shape[0]) + ' linhas e ' + str(df.shape[1]) + ' colunas.')"
   ]
  },
  {
   "cell_type": "code",
   "execution_count": 11,
   "metadata": {},
   "outputs": [
    {
     "name": "stdout",
     "output_type": "stream",
     "text": [
      "As dimensões do dataset atual são 904 linhas e 16 colunas.\n"
     ]
    }
   ],
   "source": [
    "#exibir_dimensoes\n",
    "printDimensoesDf(df, 'atual')"
   ]
  },
  {
   "cell_type": "markdown",
   "metadata": {},
   "source": [
    "### Avaliação de colunas:"
   ]
  },
  {
   "cell_type": "code",
   "execution_count": 12,
   "metadata": {},
   "outputs": [
    {
     "data": {
      "text/plain": [
       "array(['Data Venda', 'Data Envio', 'ID Loja', 'ID Produto', 'ID Cliente',\n",
       "       'No. Venda', 'Custo Unitário', 'Preço Unitário', 'Quantidade',\n",
       "       'Valor Desconto', 'Valor Venda', 'Produto', 'Fabricante', 'Marca',\n",
       "       'Classe', 'Cor'], dtype=object)"
      ]
     },
     "execution_count": 12,
     "metadata": {},
     "output_type": "execute_result"
    }
   ],
   "source": [
    "# Colunas originais do dataframe\n",
    "colunas_df = df.columns.values\n",
    "colunas_df"
   ]
  },
  {
   "cell_type": "markdown",
   "metadata": {},
   "source": [
    "### Verificação de linhas duplicadas:"
   ]
  },
  {
   "cell_type": "code",
   "execution_count": 13,
   "metadata": {},
   "outputs": [],
   "source": [
    "def printNumDuplicadas(df):\n",
    "    num_duplicadas = df.duplicated().sum()\n",
    "    print('A quantidade de linhas duplicadas é ' + str(num_duplicadas) + '.')"
   ]
  },
  {
   "cell_type": "code",
   "execution_count": 14,
   "metadata": {},
   "outputs": [
    {
     "name": "stdout",
     "output_type": "stream",
     "text": [
      "A quantidade de linhas duplicadas é 0.\n"
     ]
    }
   ],
   "source": [
    "printNumDuplicadas(df)"
   ]
  },
  {
   "cell_type": "markdown",
   "metadata": {},
   "source": [
    "### Verificação de valores ausentes:"
   ]
  },
  {
   "cell_type": "code",
   "execution_count": 15,
   "metadata": {},
   "outputs": [
    {
     "data": {
      "text/plain": [
       "0"
      ]
     },
     "execution_count": 15,
     "metadata": {},
     "output_type": "execute_result"
    }
   ],
   "source": [
    "df.isna().sum().sum()"
   ]
  },
  {
   "cell_type": "code",
   "execution_count": 16,
   "metadata": {},
   "outputs": [],
   "source": [
    "def printValoresAusentes(df):\n",
    "    valores_na = df.isna().sum()\n",
    "    valores_na = valores_na[valores_na > 0].sort_values(ascending=False)\n",
    "\n",
    "    if not valores_na.empty:\n",
    "        colunas_na = ', '.join(valores_na.index.values)\n",
    "        print('As colunas com valores ausentes são: ' + colunas_na + '.')\n",
    "        print(valores_na)\n",
    "    else:\n",
    "        print('Não há colunas com valores ausentes')"
   ]
  },
  {
   "cell_type": "code",
   "execution_count": 17,
   "metadata": {},
   "outputs": [
    {
     "name": "stdout",
     "output_type": "stream",
     "text": [
      "Não há colunas com valores ausentes\n"
     ]
    }
   ],
   "source": [
    "printValoresAusentes(df)"
   ]
  },
  {
   "cell_type": "markdown",
   "metadata": {},
   "source": [
    "### Verificação dos tipos de dados das colunas:"
   ]
  },
  {
   "cell_type": "code",
   "execution_count": 18,
   "metadata": {},
   "outputs": [
    {
     "data": {
      "text/plain": [
       "object            6\n",
       "int64             4\n",
       "float64           4\n",
       "datetime64[ns]    2\n",
       "dtype: int64"
      ]
     },
     "execution_count": 18,
     "metadata": {},
     "output_type": "execute_result"
    }
   ],
   "source": [
    "df.dtypes.value_counts()"
   ]
  },
  {
   "cell_type": "markdown",
   "metadata": {},
   "source": [
    "---\n",
    "<a id='eda'></a>\n",
    "## Análise Exploratória"
   ]
  },
  {
   "cell_type": "markdown",
   "metadata": {},
   "source": [
    "Colunas que podem ser analisadas:"
   ]
  },
  {
   "cell_type": "code",
   "execution_count": 19,
   "metadata": {
    "scrolled": true
   },
   "outputs": [
    {
     "data": {
      "text/plain": [
       "Index(['Data Venda', 'Data Envio', 'ID Loja', 'ID Produto', 'ID Cliente',\n",
       "       'No. Venda', 'Custo Unitário', 'Preço Unitário', 'Quantidade',\n",
       "       'Valor Desconto', 'Valor Venda', 'Produto', 'Fabricante', 'Marca',\n",
       "       'Classe', 'Cor'],\n",
       "      dtype='object')"
      ]
     },
     "execution_count": 19,
     "metadata": {},
     "output_type": "execute_result"
    }
   ],
   "source": [
    "df.columns"
   ]
  },
  {
   "cell_type": "markdown",
   "metadata": {},
   "source": [
    "Perguntas:\n",
    "\n",
    "1) Quantas e quais Lojas, produtos, fabricantes, marcas, classes, cores existem no dataset?\n",
    "\n",
    "2) Qual a marca mais vendida?\n",
    "\n",
    "3) Qual fabricante teve maior número de venda?\n",
    "\n",
    "4) Qual é o produto menos vendido?\n",
    "\n",
    "5) Qual a distribuição dos valores de venda?\n",
    "\n",
    "6) Qual a proporção entre as cores?\n",
    "\n",
    "7) Qual a proporção entre as duas classes?\n",
    "\n",
    "8) Qual o maior valor de desconto aplicado a uma venda?\n",
    "\n",
    "9) Qual produto com maior preço unitário?\n",
    "\n",
    "10) Qual maior intervalo entre a data de venda e a data de envio?"
   ]
  },
  {
   "cell_type": "markdown",
   "metadata": {},
   "source": [
    "    1) Quantas e quais Lojas, produtos, fabricantes, marcas, classes, cores existem no dataset?"
   ]
  },
  {
   "cell_type": "markdown",
   "metadata": {},
   "source": [
    "Loja:"
   ]
  },
  {
   "cell_type": "code",
   "execution_count": 20,
   "metadata": {},
   "outputs": [
    {
     "data": {
      "text/plain": [
       "3"
      ]
     },
     "execution_count": 20,
     "metadata": {},
     "output_type": "execute_result"
    }
   ],
   "source": [
    "df['ID Loja'].nunique()"
   ]
  },
  {
   "cell_type": "code",
   "execution_count": 21,
   "metadata": {},
   "outputs": [
    {
     "data": {
      "text/plain": [
       "array([199, 306, 307], dtype=int64)"
      ]
     },
     "execution_count": 21,
     "metadata": {},
     "output_type": "execute_result"
    }
   ],
   "source": [
    "df['ID Loja'].unique()"
   ]
  },
  {
   "cell_type": "markdown",
   "metadata": {},
   "source": [
    "Produto:"
   ]
  },
  {
   "cell_type": "code",
   "execution_count": 22,
   "metadata": {},
   "outputs": [
    {
     "data": {
      "text/plain": [
       "(9, 9)"
      ]
     },
     "execution_count": 22,
     "metadata": {},
     "output_type": "execute_result"
    }
   ],
   "source": [
    "df['Produto'].nunique(), df['ID Produto'].nunique()"
   ]
  },
  {
   "cell_type": "code",
   "execution_count": 23,
   "metadata": {},
   "outputs": [
    {
     "data": {
      "text/plain": [
       "array(['Adventure Works Laptop15.4W M1548 Red',\n",
       "       \"Fabrikam Trendsetter 1/3'' 8.5mm X200 White\",\n",
       "       \"Fabrikam Trendsetter 1/3'' 8.5mm X200 Grey\",\n",
       "       \"Fabrikam Trendsetter 2/3'' 17mm X100 Grey\",\n",
       "       \"Fabrikam Trendsetter 2/3'' 17mm X100 Black\",\n",
       "       \"Fabrikam Trendsetter 1/3'' 8.5mm X200 Black\",\n",
       "       'Adventure Works Laptop15.4W M1548 Black',\n",
       "       'Headphone Adapter for Contoso Phone E130 Silver',\n",
       "       'Headphone Adapter for Contoso Phone E130 White'], dtype=object)"
      ]
     },
     "execution_count": 23,
     "metadata": {},
     "output_type": "execute_result"
    }
   ],
   "source": [
    "df['Produto'].unique()"
   ]
  },
  {
   "cell_type": "code",
   "execution_count": 24,
   "metadata": {},
   "outputs": [
    {
     "data": {
      "text/plain": [
       "array([ 384, 1178, 1202, 1203, 1155, 1226,  366, 2496, 2497], dtype=int64)"
      ]
     },
     "execution_count": 24,
     "metadata": {},
     "output_type": "execute_result"
    }
   ],
   "source": [
    "df['ID Produto'].unique()"
   ]
  },
  {
   "cell_type": "markdown",
   "metadata": {},
   "source": [
    "Fabricante:"
   ]
  },
  {
   "cell_type": "code",
   "execution_count": 25,
   "metadata": {},
   "outputs": [
    {
     "data": {
      "text/plain": [
       "3"
      ]
     },
     "execution_count": 25,
     "metadata": {},
     "output_type": "execute_result"
    }
   ],
   "source": [
    "df['Fabricante'].nunique()"
   ]
  },
  {
   "cell_type": "code",
   "execution_count": 26,
   "metadata": {},
   "outputs": [
    {
     "data": {
      "text/plain": [
       "array(['Adventure Works', 'Fabrikam, Inc.', 'Contoso, Ltd'], dtype=object)"
      ]
     },
     "execution_count": 26,
     "metadata": {},
     "output_type": "execute_result"
    }
   ],
   "source": [
    "df['Fabricante'].unique()"
   ]
  },
  {
   "cell_type": "markdown",
   "metadata": {},
   "source": [
    "Marca:"
   ]
  },
  {
   "cell_type": "code",
   "execution_count": 27,
   "metadata": {},
   "outputs": [
    {
     "data": {
      "text/plain": [
       "3"
      ]
     },
     "execution_count": 27,
     "metadata": {},
     "output_type": "execute_result"
    }
   ],
   "source": [
    "df['Marca'].nunique()"
   ]
  },
  {
   "cell_type": "code",
   "execution_count": 28,
   "metadata": {},
   "outputs": [
    {
     "data": {
      "text/plain": [
       "array(['Adventure Works', 'Fabrikam', 'Contoso'], dtype=object)"
      ]
     },
     "execution_count": 28,
     "metadata": {},
     "output_type": "execute_result"
    }
   ],
   "source": [
    "df['Marca'].unique()"
   ]
  },
  {
   "cell_type": "markdown",
   "metadata": {},
   "source": [
    "Classe:"
   ]
  },
  {
   "cell_type": "code",
   "execution_count": 29,
   "metadata": {},
   "outputs": [
    {
     "data": {
      "text/plain": [
       "2"
      ]
     },
     "execution_count": 29,
     "metadata": {},
     "output_type": "execute_result"
    }
   ],
   "source": [
    "df['Classe'].nunique()"
   ]
  },
  {
   "cell_type": "code",
   "execution_count": 30,
   "metadata": {},
   "outputs": [
    {
     "data": {
      "text/plain": [
       "array(['Regular', 'Economy'], dtype=object)"
      ]
     },
     "execution_count": 30,
     "metadata": {},
     "output_type": "execute_result"
    }
   ],
   "source": [
    "df['Classe'].unique()"
   ]
  },
  {
   "cell_type": "markdown",
   "metadata": {},
   "source": [
    "Cor:"
   ]
  },
  {
   "cell_type": "code",
   "execution_count": 31,
   "metadata": {},
   "outputs": [
    {
     "data": {
      "text/plain": [
       "5"
      ]
     },
     "execution_count": 31,
     "metadata": {},
     "output_type": "execute_result"
    }
   ],
   "source": [
    "df['Cor'].nunique()"
   ]
  },
  {
   "cell_type": "code",
   "execution_count": 32,
   "metadata": {},
   "outputs": [
    {
     "data": {
      "text/plain": [
       "array(['Red', 'White', 'Grey', 'Black', 'Silver'], dtype=object)"
      ]
     },
     "execution_count": 32,
     "metadata": {},
     "output_type": "execute_result"
    }
   ],
   "source": [
    "df['Cor'].unique()"
   ]
  },
  {
   "cell_type": "markdown",
   "metadata": {},
   "source": [
    "    2) Qual a marca mais vendida?"
   ]
  },
  {
   "cell_type": "code",
   "execution_count": 35,
   "metadata": {},
   "outputs": [
    {
     "data": {
      "text/plain": [
       "top     Black\n",
       "freq      315\n",
       "Name: Cor, dtype: object"
      ]
     },
     "execution_count": 35,
     "metadata": {},
     "output_type": "execute_result"
    }
   ],
   "source": [
    "df['Cor'].describe()[['top', 'freq']]"
   ]
  },
  {
   "cell_type": "code",
   "execution_count": 36,
   "metadata": {},
   "outputs": [
    {
     "data": {
      "text/plain": [
       "Black     315\n",
       "Grey      212\n",
       "White     175\n",
       "Red       115\n",
       "Silver     87\n",
       "Name: Cor, dtype: int64"
      ]
     },
     "execution_count": 36,
     "metadata": {},
     "output_type": "execute_result"
    }
   ],
   "source": [
    "df['Cor'].value_counts()"
   ]
  },
  {
   "cell_type": "markdown",
   "metadata": {},
   "source": [
    "    3) Qual fabricante teve maior número de venda?"
   ]
  },
  {
   "cell_type": "code",
   "execution_count": 37,
   "metadata": {},
   "outputs": [
    {
     "data": {
      "text/plain": [
       "top     Fabrikam, Inc.\n",
       "freq               494\n",
       "Name: Fabricante, dtype: object"
      ]
     },
     "execution_count": 37,
     "metadata": {},
     "output_type": "execute_result"
    }
   ],
   "source": [
    "df['Fabricante'].describe()[['top', 'freq']]"
   ]
  },
  {
   "cell_type": "code",
   "execution_count": 46,
   "metadata": {},
   "outputs": [
    {
     "data": {
      "text/plain": [
       "Fabrikam, Inc.    494\n",
       "Name: Fabricante, dtype: int64"
      ]
     },
     "execution_count": 46,
     "metadata": {},
     "output_type": "execute_result"
    }
   ],
   "source": [
    "df['Fabricante'].value_counts()[:1]"
   ]
  },
  {
   "cell_type": "markdown",
   "metadata": {},
   "source": [
    "    4) Qual é o produto menos vendido?"
   ]
  },
  {
   "cell_type": "code",
   "execution_count": 45,
   "metadata": {},
   "outputs": [
    {
     "data": {
      "text/plain": [
       "Headphone Adapter for Contoso Phone E130 White    85\n",
       "Name: Produto, dtype: int64"
      ]
     },
     "execution_count": 45,
     "metadata": {},
     "output_type": "execute_result"
    }
   ],
   "source": [
    "df['Produto'].value_counts(ascending=True)[:1]"
   ]
  },
  {
   "cell_type": "markdown",
   "metadata": {},
   "source": [
    "    5) Qual a distribuição dos valores de venda?"
   ]
  },
  {
   "cell_type": "code",
   "execution_count": 47,
   "metadata": {},
   "outputs": [
    {
     "data": {
      "text/plain": [
       "count                 904.00\n",
       "mean                6,620.14\n",
       "std                 4,319.41\n",
       "min                   159.84\n",
       "25%                 3,920.00\n",
       "50%                 5,798.70\n",
       "75%                 7,986.00\n",
       "max                29,400.00\n",
       "Name: Valor Venda, dtype: float64"
      ]
     },
     "execution_count": 47,
     "metadata": {},
     "output_type": "execute_result"
    }
   ],
   "source": [
    "df['Valor Venda'].describe()"
   ]
  },
  {
   "cell_type": "code",
   "execution_count": 54,
   "metadata": {},
   "outputs": [],
   "source": [
    "def plotar_histogramas(df, colunas_histogramas):\n",
    "    print('Histograma')\n",
    "\n",
    "    if colunas_histogramas:\n",
    "        for coluna in colunas_histogramas:\n",
    "            fig = plt.figure(figsize=(13, 9))\n",
    "            ax = sns.distplot(df[coluna], kde=True)\n",
    "            ax.set_title('Distribuição de ' + coluna)\n",
    "            ax.set_ylabel('Quantidade')\n",
    "            ax.set_xlabel(coluna.capitalize())\n",
    "            plt.show()"
   ]
  },
  {
   "cell_type": "code",
   "execution_count": 55,
   "metadata": {},
   "outputs": [
    {
     "name": "stdout",
     "output_type": "stream",
     "text": [
      "Histograma\n"
     ]
    },
    {
     "data": {
      "image/png": "[encoded data removed]",
      "text/plain": [
       "<Figure size 936x648 with 1 Axes>"
      ]
     },
     "metadata": {
      "needs_background": "light"
     },
     "output_type": "display_data"
    }
   ],
   "source": [
    "plotar_histogramas(df, ['Valor Venda'])"
   ]
  },
  {
   "cell_type": "code",
   "execution_count": 59,
   "metadata": {},
   "outputs": [],
   "source": [
    "def plotar_boxplot(df, colunas_boxplot):\n",
    "    print('Diagramas de Caixa (Boxplots)')\n",
    "\n",
    "    if colunas_boxplot:\n",
    "        for coluna in colunas_boxplot:\n",
    "            fig = plt.figure(figsize=(13, 9))\n",
    "            ax = sns.boxplot(x=df[coluna])\n",
    "            ax.set_title('Distribuição de ' + coluna)\n",
    "            ax.set_xlabel(coluna.capitalize())\n",
    "            plt.show()"
   ]
  },
  {
   "cell_type": "code",
   "execution_count": 60,
   "metadata": {},
   "outputs": [
    {
     "name": "stdout",
     "output_type": "stream",
     "text": [
      "Diagramas de Caixa (Boxplots)\n"
     ]
    },
    {
     "data": {
      "image/png": "[encoded data removed]",
      "text/plain": [
       "<Figure size 936x648 with 1 Axes>"
      ]
     },
     "metadata": {
      "needs_background": "light"
     },
     "output_type": "display_data"
    }
   ],
   "source": [
    "plotar_boxplot(df, ['Valor Venda'])"
   ]
  },
  {
   "cell_type": "markdown",
   "metadata": {},
   "source": [
    "    6) Qual a proporção entre as cores?"
   ]
  },
  {
   "cell_type": "code",
   "execution_count": 61,
   "metadata": {},
   "outputs": [],
   "source": [
    "def contar_valores(df, colunas_contagem, porcentagem=False, transposto=False):\n",
    "    print('Contagem de valores por coluna')\n",
    "    if colunas_contagem:\n",
    "        for coluna in colunas_contagem:\n",
    "            contagem = df[coluna].value_counts(normalize=porcentagem)\n",
    "            if transposto:\n",
    "                contagem = contagem.to_frame().T\n",
    "                contagem.index = ['Quantidade']\n",
    "            print('Valores de ' + coluna)\n",
    "            print(contagem)"
   ]
  },
  {
   "cell_type": "code",
   "execution_count": 65,
   "metadata": {},
   "outputs": [
    {
     "name": "stdout",
     "output_type": "stream",
     "text": [
      "Contagem de valores por coluna\n",
      "Valores de Cor\n",
      "Black     315\n",
      "Grey      212\n",
      "White     175\n",
      "Red       115\n",
      "Silver     87\n",
      "Name: Cor, dtype: int64\n"
     ]
    }
   ],
   "source": [
    "contar_valores(df, ['Cor'], porcentagem=False, transposto=False)"
   ]
  },
  {
   "cell_type": "code",
   "execution_count": 66,
   "metadata": {},
   "outputs": [
    {
     "name": "stdout",
     "output_type": "stream",
     "text": [
      "Contagem de valores por coluna\n",
      "Valores de Cor\n",
      "Black                    0.35\n",
      "Grey                     0.23\n",
      "White                    0.19\n",
      "Red                      0.13\n",
      "Silver                   0.10\n",
      "Name: Cor, dtype: float64\n"
     ]
    }
   ],
   "source": [
    "contar_valores(df, ['Cor'], porcentagem=True, transposto=False)"
   ]
  },
  {
   "cell_type": "code",
   "execution_count": 67,
   "metadata": {},
   "outputs": [],
   "source": [
    "def plotar_barras(df, colunas_barras):\n",
    "    print('Gráficos de Barras')\n",
    "  \n",
    "    if colunas_barras:\n",
    "        for coluna in colunas_barras:\n",
    "            color = sns.color_palette(\"Blues_d\")\n",
    "            fig = plt.figure(figsize=(13, 9))\n",
    "            ax = sns.countplot(x=df[coluna], palette=color, order=df[coluna].value_counts().index)\n",
    "            ax.set_title('Distribuição de ' + coluna)\n",
    "            ax.set_ylabel('Quantidade')\n",
    "            ax.set_xlabel(coluna.capitalize())"
   ]
  },
  {
   "cell_type": "code",
   "execution_count": 68,
   "metadata": {},
   "outputs": [
    {
     "name": "stdout",
     "output_type": "stream",
     "text": [
      "Gráficos de Barras\n"
     ]
    },
    {
     "data": {
      "image/png": "[encoded data removed]",
      "text/plain": [
       "<Figure size 936x648 with 1 Axes>"
      ]
     },
     "metadata": {
      "needs_background": "light"
     },
     "output_type": "display_data"
    }
   ],
   "source": [
    "plotar_barras(df, ['Cor'])"
   ]
  },
  {
   "cell_type": "markdown",
   "metadata": {},
   "source": [
    "    7) Qual a proporção entre as duas classes?"
   ]
  },
  {
   "cell_type": "code",
   "execution_count": 69,
   "metadata": {},
   "outputs": [
    {
     "name": "stdout",
     "output_type": "stream",
     "text": [
      "Contagem de valores por coluna\n",
      "Valores de Classe\n",
      "            Regular  Economy\n",
      "Quantidade      732      172\n"
     ]
    }
   ],
   "source": [
    "contar_valores(df, ['Classe'], porcentagem=False, transposto=True)"
   ]
  },
  {
   "cell_type": "code",
   "execution_count": 70,
   "metadata": {},
   "outputs": [
    {
     "name": "stdout",
     "output_type": "stream",
     "text": [
      "Contagem de valores por coluna\n",
      "Valores de Classe\n",
      "                        Regular              Economy\n",
      "Quantidade                 0.81                 0.19\n"
     ]
    }
   ],
   "source": [
    "contar_valores(df, ['Classe'], porcentagem=True, transposto=True)"
   ]
  },
  {
   "cell_type": "code",
   "execution_count": 71,
   "metadata": {},
   "outputs": [
    {
     "name": "stdout",
     "output_type": "stream",
     "text": [
      "Gráficos de Barras\n"
     ]
    },
    {
     "data": {
      "image/png": "[encoded data removed]",
      "text/plain": [
       "<Figure size 936x648 with 1 Axes>"
      ]
     },
     "metadata": {
      "needs_background": "light"
     },
     "output_type": "display_data"
    }
   ],
   "source": [
    "plotar_barras(df, ['Classe'])"
   ]
  },
  {
   "cell_type": "markdown",
   "metadata": {},
   "source": [
    "    8) Qual o maior valor de desconto aplicado a uma venda?"
   ]
  },
  {
   "cell_type": "code",
   "execution_count": 78,
   "metadata": {},
   "outputs": [
    {
     "data": {
      "text/plain": [
       "6272.0"
      ]
     },
     "execution_count": 78,
     "metadata": {},
     "output_type": "execute_result"
    }
   ],
   "source": [
    "maior_desconto = df['Valor Desconto'].max()\n",
    "maior_desconto"
   ]
  },
  {
   "cell_type": "code",
   "execution_count": 79,
   "metadata": {},
   "outputs": [
    {
     "data": {
      "text/html": [
       "<div>\n",
       "<style scoped>\n",
       "    .dataframe tbody tr th:only-of-type {\n",
       "        vertical-align: middle;\n",
       "    }\n",
       "\n",
       "    .dataframe tbody tr th {\n",
       "        vertical-align: top;\n",
       "    }\n",
       "\n",
       "    .dataframe thead th {\n",
       "        text-align: right;\n",
       "    }\n",
       "</style>\n",
       "<table border=\"1\" class=\"dataframe\">\n",
       "  <thead>\n",
       "    <tr style=\"text-align: right;\">\n",
       "      <th></th>\n",
       "      <th>Data Venda</th>\n",
       "      <th>Data Envio</th>\n",
       "      <th>ID Loja</th>\n",
       "      <th>ID Produto</th>\n",
       "      <th>ID Cliente</th>\n",
       "      <th>No. Venda</th>\n",
       "      <th>Custo Unitário</th>\n",
       "      <th>Preço Unitário</th>\n",
       "      <th>Quantidade</th>\n",
       "      <th>Valor Desconto</th>\n",
       "      <th>Valor Venda</th>\n",
       "      <th>Produto</th>\n",
       "      <th>Fabricante</th>\n",
       "      <th>Marca</th>\n",
       "      <th>Classe</th>\n",
       "      <th>Cor</th>\n",
       "    </tr>\n",
       "  </thead>\n",
       "  <tbody>\n",
       "    <tr>\n",
       "      <th>339</th>\n",
       "      <td>2008-12-16</td>\n",
       "      <td>2008-12-27</td>\n",
       "      <td>199</td>\n",
       "      <td>1203</td>\n",
       "      <td>18897</td>\n",
       "      <td>200812164CS805</td>\n",
       "      <td>324.69</td>\n",
       "      <td>980.00</td>\n",
       "      <td>32</td>\n",
       "      <td>6,272.00</td>\n",
       "      <td>25,088.00</td>\n",
       "      <td>Fabrikam Trendsetter 2/3'' 17mm X100 Grey</td>\n",
       "      <td>Fabrikam, Inc.</td>\n",
       "      <td>Fabrikam</td>\n",
       "      <td>Regular</td>\n",
       "      <td>Grey</td>\n",
       "    </tr>\n",
       "  </tbody>\n",
       "</table>\n",
       "</div>"
      ],
      "text/plain": [
       "    Data Venda Data Envio  ID Loja  ID Produto  ID Cliente       No. Venda  \\\n",
       "339 2008-12-16 2008-12-27      199        1203       18897  200812164CS805   \n",
       "\n",
       "          Custo Unitário       Preço Unitário  Quantidade  \\\n",
       "339               324.69               980.00          32   \n",
       "\n",
       "          Valor Desconto          Valor Venda  \\\n",
       "339             6,272.00            25,088.00   \n",
       "\n",
       "                                       Produto      Fabricante     Marca  \\\n",
       "339  Fabrikam Trendsetter 2/3'' 17mm X100 Grey  Fabrikam, Inc.  Fabrikam   \n",
       "\n",
       "      Classe   Cor  \n",
       "339  Regular  Grey  "
      ]
     },
     "execution_count": 79,
     "metadata": {},
     "output_type": "execute_result"
    }
   ],
   "source": [
    "# Venda(s) com o maior desconto\n",
    "df.query('`Valor Desconto` == @maior_desconto')"
   ]
  },
  {
   "cell_type": "markdown",
   "metadata": {},
   "source": [
    "    9) Qual produto com maior preço unitário?"
   ]
  },
  {
   "cell_type": "code",
   "execution_count": 92,
   "metadata": {},
   "outputs": [
    {
     "data": {
      "text/plain": [
       "999.0"
      ]
     },
     "execution_count": 92,
     "metadata": {},
     "output_type": "execute_result"
    }
   ],
   "source": [
    "maior_preco_unitario = df['Preço Unitário'].max()\n",
    "maior_preco_unitario"
   ]
  },
  {
   "cell_type": "code",
   "execution_count": 93,
   "metadata": {},
   "outputs": [
    {
     "data": {
      "text/plain": [
       "array([\"Fabrikam Trendsetter 1/3'' 8.5mm X200 Black\"], dtype=object)"
      ]
     },
     "execution_count": 93,
     "metadata": {},
     "output_type": "execute_result"
    }
   ],
   "source": [
    "df.query('`Preço Unitário` == @maior_preco_unitario')['Produto'].unique()"
   ]
  },
  {
   "cell_type": "markdown",
   "metadata": {},
   "source": [
    "    10) Qual maior intervalo entre a data de venda e a data de envio?"
   ]
  },
  {
   "cell_type": "code",
   "execution_count": 95,
   "metadata": {},
   "outputs": [
    {
     "data": {
      "text/plain": [
       "20"
      ]
     },
     "execution_count": 95,
     "metadata": {},
     "output_type": "execute_result"
    }
   ],
   "source": [
    "intervalo = df['Data Envio'] - df['Data Venda']\n",
    "intervalo.dt.days.max()"
   ]
  }
 ],
 "metadata": {
  "kernelspec": {
   "display_name": "Python 3",
   "language": "python",
   "name": "python3"
  },
  "language_info": {
   "codemirror_mode": {
    "name": "ipython",
    "version": 3
   },
   "file_extension": ".py",
   "mimetype": "text/x-python",
   "name": "python",
   "nbconvert_exporter": "python",
   "pygments_lexer": "ipython3",
   "version": "3.7.6"
  }
 },
 "nbformat": 4,
 "nbformat_minor": 4
}
